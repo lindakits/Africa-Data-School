{
 "cells": [
  {
   "cell_type": "markdown",
   "metadata": {},
   "source": [
    "## Assignment 1 Review"
   ]
  },
  {
   "cell_type": "code",
   "execution_count": 5,
   "metadata": {},
   "outputs": [],
   "source": [
    "def add(num1, num2):\n",
    "    return num1+num2\n",
    "def subtract(num1, num2):\n",
    "    return num1-num2\n",
    "def multiply(num1, num2):\n",
    "    return num1*num2\n",
    "def divide(num1, num2):\n",
    "    return num1/num2"
   ]
  },
  {
   "cell_type": "code",
   "execution_count": 11,
   "metadata": {},
   "outputs": [],
   "source": [
    "def calculator():\n",
    "    num1 = int(input(\"Enter first number: \"))\n",
    "    operation = input(\"Enter operation (+, -, /, *): \")\n",
    "    num2 = int(input(\"Enter second number: \"))\n",
    "    if operation == \"+\":\n",
    "        return add(num1, num2)\n",
    "    elif operation == \"-\":\n",
    "        return subtract(num1, num2)\n",
    "    elif operation == \"/\":\n",
    "        return divide(num1, num2)\n",
    "    elif operation == \"*\":\n",
    "        return multiply(num1, num2)\n",
    "    else:\n",
    "        print(\"Invalid operation\")"
   ]
  },
  {
   "cell_type": "code",
   "execution_count": 16,
   "metadata": {},
   "outputs": [
    {
     "name": "stdout",
     "output_type": "stream",
     "text": [
      "Enter first number: 20\n",
      "Enter operation (+, -, /, *)%\n",
      "Enter second number: 3\n",
      "Invalid operation\n"
     ]
    }
   ],
   "source": [
    "results = calculator()"
   ]
  },
  {
   "cell_type": "code",
   "execution_count": 15,
   "metadata": {},
   "outputs": [
    {
     "name": "stdout",
     "output_type": "stream",
     "text": [
      "144\n"
     ]
    }
   ],
   "source": [
    "print(results)"
   ]
  },
  {
   "cell_type": "code",
   "execution_count": null,
   "metadata": {},
   "outputs": [],
   "source": []
  }
 ],
 "metadata": {
  "kernelspec": {
   "display_name": "Python 3",
   "language": "python",
   "name": "python3"
  },
  "language_info": {
   "codemirror_mode": {
    "name": "ipython",
    "version": 3
   },
   "file_extension": ".py",
   "mimetype": "text/x-python",
   "name": "python",
   "nbconvert_exporter": "python",
   "pygments_lexer": "ipython3",
   "version": "3.8.8"
  }
 },
 "nbformat": 4,
 "nbformat_minor": 4
}
