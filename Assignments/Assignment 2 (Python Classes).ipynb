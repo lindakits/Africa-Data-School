{
 "cells": [
  {
   "cell_type": "markdown",
   "metadata": {},
   "source": [
    "### Question 1\n",
    "* Make a class called User. Create two attributes called **first_name** and **last_name**, and then create several other attributes that are typically storedin a user profile. \n",
    "* Make a method called **describe_user()** that prints a summary of the user’s information. \n",
    "* Make another method called **greet_user()** that prints a personalized greeting to the user.\n",
    "* Create several instances representing different users, and call both methods for each user."
   ]
  },
  {
   "cell_type": "code",
   "execution_count": null,
   "metadata": {},
   "outputs": [],
   "source": [
    "class User:\n",
    "    def __init__(self, first_name, last_name, age, nationality, id):\n",
    "        self.first_name = first_name\n",
    "        self.last_name = last_name\n",
    "        self.age = age\n",
    "        self.id = id\n",
    "        self.nationality = nationality\n",
    "    \n",
    "    def full_name(self):\n",
    "        return self.first_name + \" \" + self.last_name \n",
    "       \n",
    "    def describe_user(self):\n",
    "        print(f\"{self.full_name()} i am {self.age} years old i am {self.nationality} with {self.id}\")\n",
    "\n",
    "    def greet_user(self):\n",
    "        print(\"Hello \" + self.full_name() + \"! Good morning.\")\n",
    "\n",
    "collins = User(\"Collins\", \"Doe\", 34, \"Kenyan\", 2992200)\n",
    "collins.greet_user()   \n",
    "collins.describe_user()\n",
    "\n",
    "jane = User(\"Jane\", \"Hilva\", 29, \"Kenyan\", 30235567)\n",
    "jane.greet_user()\n",
    "jane.describe_user()\n",
    "\n",
    "ezra = User(\"Ezra\", \"Waylen\", 50, \"Ugandan\", 21345678)\n",
    "ezra.greet_user()\n",
    "ezra.describe_user()\n"
   ]
  },
  {
   "cell_type": "markdown",
   "metadata": {},
   "source": [
    "### Question 2"
   ]
  },
  {
   "cell_type": "code",
   "execution_count": null,
   "metadata": {},
   "outputs": [],
   "source": [
    "class Animal:\n",
    "    def __init__(self):\n",
    "        self.eyes = 2\n",
    "        self.legs = 2\n",
    "\n",
    "    def walk(self):\n",
    "        if self.legs:\n",
    "            print(f'Walking on my own {self.legs} legs.')\n",
    "        else:\n",
    "            print(\"Can't walk. Maybe swim!\")"
   ]
  },
  {
   "cell_type": "markdown",
   "metadata": {},
   "source": [
    "* Create a new class called **Fish** that inherits from the **Animal** class above.\n",
    "* **NB**: A fish has zero legs."
   ]
  },
  {
   "cell_type": "code",
   "execution_count": null,
   "metadata": {},
   "outputs": [],
   "source": [
    "class Fish(Animal):\n",
    "    def __init__(self):\n",
    "        self.eyes = 2\n",
    "        self.legs = 0\n",
    "\n",
    "    def swim(self):\n",
    "        print(\"movement is by swimming\")\n"
   ]
  },
  {
   "cell_type": "code",
   "execution_count": null,
   "metadata": {},
   "outputs": [],
   "source": []
  }
 ],
 "metadata": {
  "kernelspec": {
   "display_name": "Python 3",
   "language": "python",
   "name": "python3"
  },
  "language_info": {
   "codemirror_mode": {
    "name": "ipython",
    "version": 3
   },
   "file_extension": ".py",
   "mimetype": "text/x-python",
   "name": "python",
   "nbconvert_exporter": "python",
   "pygments_lexer": "ipython3",
   "version": "3.8.8"
  }
 },
 "nbformat": 4,
 "nbformat_minor": 4
}
